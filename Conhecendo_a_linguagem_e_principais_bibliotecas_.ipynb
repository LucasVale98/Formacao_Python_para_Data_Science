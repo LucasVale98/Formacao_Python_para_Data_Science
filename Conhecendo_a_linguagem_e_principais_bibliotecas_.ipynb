{
  "nbformat": 4,
  "nbformat_minor": 0,
  "metadata": {
    "colab": {
      "name": "Conhecendo_a_linguagem_e_principais_bibliotecas_.ipynb",
      "provenance": [],
      "collapsed_sections": [],
      "include_colab_link": true
    },
    "kernelspec": {
      "name": "python3",
      "display_name": "Python 3"
    },
    "language_info": {
      "name": "python"
    }
  },
  "cells": [
    {
      "cell_type": "markdown",
      "metadata": {
        "id": "view-in-github",
        "colab_type": "text"
      },
      "source": [
        "<a href=\"https://colab.research.google.com/github/LucasVale98/Formacao_Python_para_Data_Science/blob/main/Conhecendo_a_linguagem_e_principais_bibliotecas_.ipynb\" target=\"_parent\"><img src=\"https://colab.research.google.com/assets/colab-badge.svg\" alt=\"Open In Colab\"/></a>"
      ]
    },
    {
      "cell_type": "markdown",
      "metadata": {
        "id": "j5gsRGEpOSMR"
      },
      "source": [
        "# **Função e linguagem de alto nível**"
      ]
    },
    {
      "cell_type": "markdown",
      "metadata": {
        "id": "MqcUuOnaXE8_"
      },
      "source": [
        "# **Variáveis**"
      ]
    },
    {
      "cell_type": "code",
      "metadata": {
        "colab": {
          "base_uri": "https://localhost:8080/"
        },
        "id": "iEoEj7t1XCNj",
        "outputId": "d1ea264e-a015-48b8-ff45-4e94a198e31e"
      },
      "source": [
        "1+1"
      ],
      "execution_count": null,
      "outputs": [
        {
          "output_type": "execute_result",
          "data": {
            "text/plain": [
              "2"
            ]
          },
          "metadata": {
            "tags": []
          },
          "execution_count": 1
        }
      ]
    },
    {
      "cell_type": "code",
      "metadata": {
        "colab": {
          "base_uri": "https://localhost:8080/",
          "height": 35
        },
        "id": "fI30pjBRPuNU",
        "outputId": "e914422f-5b75-40aa-d60c-69c2483c3302"
      },
      "source": [
        "nome = 'Lucas'\n",
        "nome"
      ],
      "execution_count": null,
      "outputs": [
        {
          "output_type": "execute_result",
          "data": {
            "application/vnd.google.colaboratory.intrinsic+json": {
              "type": "string"
            },
            "text/plain": [
              "'Lucas'"
            ]
          },
          "metadata": {
            "tags": []
          },
          "execution_count": 5
        }
      ]
    },
    {
      "cell_type": "code",
      "metadata": {
        "colab": {
          "base_uri": "https://localhost:8080/"
        },
        "id": "JWYyhDndXAF-",
        "outputId": "e2126cfe-7fc9-4b55-c78e-6300bcb5dfb4"
      },
      "source": [
        "idade = 20\n",
        "idade"
      ],
      "execution_count": null,
      "outputs": [
        {
          "output_type": "execute_result",
          "data": {
            "text/plain": [
              "20"
            ]
          },
          "metadata": {
            "tags": []
          },
          "execution_count": 6
        }
      ]
    },
    {
      "cell_type": "code",
      "metadata": {
        "colab": {
          "base_uri": "https://localhost:8080/"
        },
        "id": "56bXl7PfcAyR",
        "outputId": "7673b97b-a3e3-4ce6-baeb-cfebe5c8cab7"
      },
      "source": [
        "print(f'O nome é {nome} e sua idade é {idade} anos')"
      ],
      "execution_count": null,
      "outputs": [
        {
          "output_type": "stream",
          "text": [
            "O nome é Lucas e sua idade é 20 anos\n"
          ],
          "name": "stdout"
        }
      ]
    },
    {
      "cell_type": "markdown",
      "metadata": {
        "id": "b12-oqIxbpry"
      },
      "source": [
        "# **Minha primeira função**"
      ]
    },
    {
      "cell_type": "code",
      "metadata": {
        "id": "ByCU6ntwd_Oz"
      },
      "source": [
        "def saudacao():\n",
        "  nome = input('Qual é o seu nome: ')\n",
        "  print(f'Ola, {nome}')"
      ],
      "execution_count": null,
      "outputs": []
    },
    {
      "cell_type": "code",
      "metadata": {
        "colab": {
          "base_uri": "https://localhost:8080/"
        },
        "id": "bJ5pIqorfIIG",
        "outputId": "81772b68-331a-4ff1-ce6c-afde63a20830"
      },
      "source": [
        "saudacao()"
      ],
      "execution_count": null,
      "outputs": [
        {
          "output_type": "stream",
          "text": [
            "Qual é o seu nome: Lucas Do Vale\n",
            "Ola, Lucas Do Vale\n"
          ],
          "name": "stdout"
        }
      ]
    },
    {
      "cell_type": "markdown",
      "metadata": {
        "id": "mZYHOawBiEuq"
      },
      "source": [
        "# **Parâmetros, condicionais e conversão de tipos**"
      ]
    },
    {
      "cell_type": "markdown",
      "metadata": {
        "id": "Q38kCv2PiSBh"
      },
      "source": [
        "**Função com parâmetro**"
      ]
    },
    {
      "cell_type": "code",
      "metadata": {
        "id": "60IppnVpfQja"
      },
      "source": [
        "def saudacao_com_parametros(nome_da_pessoa):\n",
        "  print(f'Ola, {nome_da_pessoa}')"
      ],
      "execution_count": null,
      "outputs": []
    },
    {
      "cell_type": "code",
      "metadata": {
        "colab": {
          "base_uri": "https://localhost:8080/"
        },
        "id": "7Tfoxi4XjuPT",
        "outputId": "8e47d989-6ddb-4ad7-c03c-48170211c37b"
      },
      "source": [
        "saudacao_com_parametros('Lucas Do Vale')"
      ],
      "execution_count": null,
      "outputs": [
        {
          "output_type": "stream",
          "text": [
            "Ola, Lucas Do Vale\n"
          ],
          "name": "stdout"
        }
      ]
    },
    {
      "cell_type": "markdown",
      "metadata": {
        "id": "wb1Xt-RikscL"
      },
      "source": [
        "**Condicionais**"
      ]
    },
    {
      "cell_type": "code",
      "metadata": {
        "id": "TcRxD5J-koOx"
      },
      "source": [
        "def vereficar_se_pode_dirigir(idade):\n",
        "  if idade < 18:\n",
        "    print('Não pode dirigir')\n",
        "  else:\n",
        "    print('Pode dirigir')"
      ],
      "execution_count": null,
      "outputs": []
    },
    {
      "cell_type": "code",
      "metadata": {
        "colab": {
          "base_uri": "https://localhost:8080/"
        },
        "id": "byRVVyBymENc",
        "outputId": "7e21d1cb-80d5-491b-ea82-4a2021589bd7"
      },
      "source": [
        "vereficar_se_pode_dirigir(17)"
      ],
      "execution_count": null,
      "outputs": [
        {
          "output_type": "stream",
          "text": [
            "Não pode dirigir\n"
          ],
          "name": "stdout"
        }
      ]
    },
    {
      "cell_type": "code",
      "metadata": {
        "colab": {
          "base_uri": "https://localhost:8080/"
        },
        "id": "kJclibX4mMGO",
        "outputId": "9cbf18a1-ee77-426f-fb59-866f7f3e32fc"
      },
      "source": [
        "vereficar_se_pode_dirigir(18)"
      ],
      "execution_count": null,
      "outputs": [
        {
          "output_type": "stream",
          "text": [
            "Pode dirigir\n"
          ],
          "name": "stdout"
        }
      ]
    },
    {
      "cell_type": "markdown",
      "metadata": {
        "id": "2abC1D12mQX5"
      },
      "source": [
        "**Conversão de tipos**"
      ]
    },
    {
      "cell_type": "code",
      "metadata": {
        "id": "GIyWSEp4qRvQ"
      },
      "source": [
        "def verefica_se_pode_dirigir_sem_parametros():\n",
        "  idade = input('Qual sua idade: ')\n",
        "  if idade < 18:\n",
        "    print('Não pode dirigir')\n",
        "  else:\n",
        "    print('Pode dirigir')"
      ],
      "execution_count": null,
      "outputs": []
    },
    {
      "cell_type": "code",
      "metadata": {
        "colab": {
          "base_uri": "https://localhost:8080/",
          "height": 304
        },
        "id": "q6NbX5WCuZmT",
        "outputId": "a4f2ec8c-9e99-490c-a0e1-72d2dc393a57"
      },
      "source": [
        "verefica_se_pode_dirigir_sem_parametros()"
      ],
      "execution_count": null,
      "outputs": [
        {
          "output_type": "stream",
          "text": [
            "Qual sua idade: 18\n"
          ],
          "name": "stdout"
        },
        {
          "output_type": "error",
          "ename": "TypeError",
          "evalue": "ignored",
          "traceback": [
            "\u001b[0;31m---------------------------------------------------------------------------\u001b[0m",
            "\u001b[0;31mTypeError\u001b[0m                                 Traceback (most recent call last)",
            "\u001b[0;32m<ipython-input-18-2038d00af6d8>\u001b[0m in \u001b[0;36m<module>\u001b[0;34m()\u001b[0m\n\u001b[0;32m----> 1\u001b[0;31m \u001b[0mverefica_se_pode_dirigir_sem_parametros\u001b[0m\u001b[0;34m(\u001b[0m\u001b[0;34m)\u001b[0m\u001b[0;34m\u001b[0m\u001b[0;34m\u001b[0m\u001b[0m\n\u001b[0m",
            "\u001b[0;32m<ipython-input-17-d57baf5bc0e6>\u001b[0m in \u001b[0;36mverefica_se_pode_dirigir_sem_parametros\u001b[0;34m()\u001b[0m\n\u001b[1;32m      1\u001b[0m \u001b[0;32mdef\u001b[0m \u001b[0mverefica_se_pode_dirigir_sem_parametros\u001b[0m\u001b[0;34m(\u001b[0m\u001b[0;34m)\u001b[0m\u001b[0;34m:\u001b[0m\u001b[0;34m\u001b[0m\u001b[0;34m\u001b[0m\u001b[0m\n\u001b[1;32m      2\u001b[0m   \u001b[0midade\u001b[0m \u001b[0;34m=\u001b[0m \u001b[0minput\u001b[0m\u001b[0;34m(\u001b[0m\u001b[0;34m'Qual sua idade: '\u001b[0m\u001b[0;34m)\u001b[0m\u001b[0;34m\u001b[0m\u001b[0;34m\u001b[0m\u001b[0m\n\u001b[0;32m----> 3\u001b[0;31m   \u001b[0;32mif\u001b[0m \u001b[0midade\u001b[0m \u001b[0;34m<\u001b[0m \u001b[0;36m18\u001b[0m\u001b[0;34m:\u001b[0m\u001b[0;34m\u001b[0m\u001b[0;34m\u001b[0m\u001b[0m\n\u001b[0m\u001b[1;32m      4\u001b[0m     \u001b[0mprint\u001b[0m\u001b[0;34m(\u001b[0m\u001b[0;34m'Não pode dirigir'\u001b[0m\u001b[0;34m)\u001b[0m\u001b[0;34m\u001b[0m\u001b[0;34m\u001b[0m\u001b[0m\n\u001b[1;32m      5\u001b[0m   \u001b[0;32melse\u001b[0m\u001b[0;34m:\u001b[0m\u001b[0;34m\u001b[0m\u001b[0;34m\u001b[0m\u001b[0m\n",
            "\u001b[0;31mTypeError\u001b[0m: '<' not supported between instances of 'str' and 'int'"
          ]
        }
      ]
    },
    {
      "cell_type": "code",
      "metadata": {
        "id": "pfcOCGRiudOR"
      },
      "source": [
        "def verefica_se_pode_dirigir_sem_parametros():\n",
        "  idade = input('Qual a sua idade: ')\n",
        "  idade = int(idade)\n",
        "  if idade < 18:\n",
        "    print('Não pode dirigir')\n",
        "  else:\n",
        "    print('Pode dirigir')"
      ],
      "execution_count": null,
      "outputs": []
    },
    {
      "cell_type": "code",
      "metadata": {
        "colab": {
          "base_uri": "https://localhost:8080/"
        },
        "id": "-sBLpqzBwrGI",
        "outputId": "75b670de-0c30-48fc-b522-30dda0343887"
      },
      "source": [
        "verefica_se_pode_dirigir_sem_parametros()"
      ],
      "execution_count": null,
      "outputs": [
        {
          "output_type": "stream",
          "text": [
            "Qual a sua idade: 18\n",
            "Pode dirigir\n"
          ],
          "name": "stdout"
        }
      ]
    },
    {
      "cell_type": "markdown",
      "metadata": {
        "id": "_uZSHzHsxkky"
      },
      "source": [
        "# **Lista, repetições e tipo booleano**"
      ]
    },
    {
      "cell_type": "markdown",
      "metadata": {
        "id": "g0P5UMAXxtNx"
      },
      "source": [
        "**Criando uma lista**"
      ]
    },
    {
      "cell_type": "code",
      "metadata": {
        "id": "jl2mMYNbxzWg"
      },
      "source": [
        "lista = [12,23,31,40,53,61,73,82,90]"
      ],
      "execution_count": null,
      "outputs": []
    },
    {
      "cell_type": "code",
      "metadata": {
        "colab": {
          "base_uri": "https://localhost:8080/"
        },
        "id": "-j-_WdgL_8ue",
        "outputId": "f266932c-c8dc-42cf-e716-f5854df5d765"
      },
      "source": [
        "type(lista)"
      ],
      "execution_count": null,
      "outputs": [
        {
          "output_type": "execute_result",
          "data": {
            "text/plain": [
              "list"
            ]
          },
          "metadata": {
            "tags": []
          },
          "execution_count": 29
        }
      ]
    },
    {
      "cell_type": "code",
      "metadata": {
        "colab": {
          "base_uri": "https://localhost:8080/"
        },
        "id": "Cbyp6TZG_6HX",
        "outputId": "dc6378d6-0af0-45ef-bc0b-d0a25ad0125d"
      },
      "source": [
        "print(lista)"
      ],
      "execution_count": null,
      "outputs": [
        {
          "output_type": "stream",
          "text": [
            "[12, 23, 31, 40, 53, 61, 73, 82, 90]\n"
          ],
          "name": "stdout"
        }
      ]
    },
    {
      "cell_type": "code",
      "metadata": {
        "colab": {
          "base_uri": "https://localhost:8080/"
        },
        "id": "DktDlK1XAGf_",
        "outputId": "9fcc884b-82cc-4a39-fd5d-9a2db2fe0af6"
      },
      "source": [
        "lista[2]"
      ],
      "execution_count": null,
      "outputs": [
        {
          "output_type": "execute_result",
          "data": {
            "text/plain": [
              "31"
            ]
          },
          "metadata": {
            "tags": []
          },
          "execution_count": 37
        }
      ]
    },
    {
      "cell_type": "code",
      "metadata": {
        "colab": {
          "base_uri": "https://localhost:8080/"
        },
        "id": "d3f8er5AAoVF",
        "outputId": "156d19c8-4bec-4422-a8ee-19f572ea3ee4"
      },
      "source": [
        "lista[0:2]"
      ],
      "execution_count": null,
      "outputs": [
        {
          "output_type": "execute_result",
          "data": {
            "text/plain": [
              "[12, 23]"
            ]
          },
          "metadata": {
            "tags": []
          },
          "execution_count": 38
        }
      ]
    },
    {
      "cell_type": "code",
      "metadata": {
        "colab": {
          "base_uri": "https://localhost:8080/"
        },
        "id": "rTLSQe4qBq74",
        "outputId": "b16f61c8-46cc-498d-bcf4-989da1a32f89"
      },
      "source": [
        "lista[1:]"
      ],
      "execution_count": null,
      "outputs": [
        {
          "output_type": "execute_result",
          "data": {
            "text/plain": [
              "[23, 31, 40, 53, 61, 73, 82, 90]"
            ]
          },
          "metadata": {
            "tags": []
          },
          "execution_count": 39
        }
      ]
    },
    {
      "cell_type": "code",
      "metadata": {
        "colab": {
          "base_uri": "https://localhost:8080/"
        },
        "id": "Sn-b2JSRBwFQ",
        "outputId": "8dbfef68-2c96-4891-b2f4-fe6638a865f5"
      },
      "source": [
        "lista[-1]"
      ],
      "execution_count": null,
      "outputs": [
        {
          "output_type": "execute_result",
          "data": {
            "text/plain": [
              "90"
            ]
          },
          "metadata": {
            "tags": []
          },
          "execution_count": 41
        }
      ]
    },
    {
      "cell_type": "code",
      "metadata": {
        "colab": {
          "base_uri": "https://localhost:8080/"
        },
        "id": "rYEcMArkCR3h",
        "outputId": "4cd96c75-6a1f-4b65-bb9e-ff382566f357"
      },
      "source": [
        "lista[-2]"
      ],
      "execution_count": null,
      "outputs": [
        {
          "output_type": "execute_result",
          "data": {
            "text/plain": [
              "82"
            ]
          },
          "metadata": {
            "tags": []
          },
          "execution_count": 43
        }
      ]
    },
    {
      "cell_type": "markdown",
      "metadata": {
        "id": "KreNTq-yCT3-"
      },
      "source": [
        "**Laços e loops**"
      ]
    },
    {
      "cell_type": "code",
      "metadata": {
        "id": "al2JhPAXD29Q"
      },
      "source": [
        "def vereficar_se_pode_dirigir(idade):\n",
        "  if idade < 18:\n",
        "    print(f'{idade} anos de idade, NÃO TEM permissão para dirigir')\n",
        "  else:\n",
        "    print(f'{idade} anos de idade, TEM permissão para dirigir')"
      ],
      "execution_count": null,
      "outputs": []
    },
    {
      "cell_type": "code",
      "metadata": {
        "colab": {
          "base_uri": "https://localhost:8080/"
        },
        "id": "-bYO1qIFE6yE",
        "outputId": "11993146-c740-44e7-94e8-bf6f6188faf5"
      },
      "source": [
        "for idade in lista:\n",
        "  vereficar_se_pode_dirigir(idade)"
      ],
      "execution_count": null,
      "outputs": [
        {
          "output_type": "stream",
          "text": [
            "12 anos de idade, NÃO TEM permissão para dirigir\n",
            "23 anos de idade, TEM permissão para dirigir\n",
            "31 anos de idade, TEM permissão para dirigir\n",
            "40 anos de idade, TEM permissão para dirigir\n",
            "53 anos de idade, TEM permissão para dirigir\n",
            "61 anos de idade, TEM permissão para dirigir\n",
            "73 anos de idade, TEM permissão para dirigir\n",
            "82 anos de idade, TEM permissão para dirigir\n",
            "90 anos de idade, TEM permissão para dirigir\n"
          ],
          "name": "stdout"
        }
      ]
    },
    {
      "cell_type": "code",
      "metadata": {
        "colab": {
          "base_uri": "https://localhost:8080/"
        },
        "id": "11ZdACPCFbyi",
        "outputId": "4310e4ab-efc8-432c-ec66-2165cea0561f"
      },
      "source": [
        "def vereficar_se_pode_dirigir(idade):\n",
        "  for idade in lista:\n",
        "    if idade < 18:\n",
        "      print(f'{idade} anos de idade, NÃO TEM permissão para dirigir')\n",
        "    else:\n",
        "      print(f'{idade} anos de idade, TEM permissão para dirigir')\n",
        "  \n",
        "vereficar_se_pode_dirigir(lista)"
      ],
      "execution_count": null,
      "outputs": [
        {
          "output_type": "stream",
          "text": [
            "12 anos de idade, NÃO TEM permissão para dirigir\n",
            "23 anos de idade, TEM permissão para dirigir\n",
            "31 anos de idade, TEM permissão para dirigir\n",
            "40 anos de idade, TEM permissão para dirigir\n",
            "53 anos de idade, TEM permissão para dirigir\n",
            "61 anos de idade, TEM permissão para dirigir\n",
            "73 anos de idade, TEM permissão para dirigir\n",
            "82 anos de idade, TEM permissão para dirigir\n",
            "90 anos de idade, TEM permissão para dirigir\n"
          ],
          "name": "stdout"
        }
      ]
    },
    {
      "cell_type": "markdown",
      "metadata": {
        "id": "a5ATesz6FqRc"
      },
      "source": [
        "**Tipo booleano**"
      ]
    },
    {
      "cell_type": "code",
      "metadata": {
        "colab": {
          "base_uri": "https://localhost:8080/"
        },
        "id": "faxcM8JrGW6X",
        "outputId": "f791a0d7-81e2-4074-b8cd-519802e26e60"
      },
      "source": [
        "idade = 18\n",
        "idade >= 18"
      ],
      "execution_count": null,
      "outputs": [
        {
          "output_type": "execute_result",
          "data": {
            "text/plain": [
              "True"
            ]
          },
          "metadata": {
            "tags": []
          },
          "execution_count": 51
        }
      ]
    },
    {
      "cell_type": "code",
      "metadata": {
        "colab": {
          "base_uri": "https://localhost:8080/"
        },
        "id": "pEmxPLL3Hbnk",
        "outputId": "be9c86d1-593a-44f5-f90a-ad4624aa418c"
      },
      "source": [
        "idade = 15\n",
        "idade >= 18"
      ],
      "execution_count": null,
      "outputs": [
        {
          "output_type": "execute_result",
          "data": {
            "text/plain": [
              "False"
            ]
          },
          "metadata": {
            "tags": []
          },
          "execution_count": 54
        }
      ]
    },
    {
      "cell_type": "code",
      "metadata": {
        "id": "973HkDmEHqNO"
      },
      "source": [
        "permissoes = []\n",
        "idades = [20,14,40]"
      ],
      "execution_count": null,
      "outputs": []
    },
    {
      "cell_type": "code",
      "metadata": {
        "id": "Pb0WEAW-H3f6"
      },
      "source": [
        "def verefica_se_pode_dirigir(idades, permissoes):\n",
        "  for idade in idades:\n",
        "    if idade >= 18:\n",
        "      permissoes.append(True)\n",
        "    else:\n",
        "      permissoes.append(False)"
      ],
      "execution_count": null,
      "outputs": []
    },
    {
      "cell_type": "code",
      "metadata": {
        "id": "3b5bT5PxHvxn"
      },
      "source": [
        "verefica_se_pode_dirigir(idades, permissoes)"
      ],
      "execution_count": null,
      "outputs": []
    },
    {
      "cell_type": "code",
      "metadata": {
        "colab": {
          "base_uri": "https://localhost:8080/"
        },
        "id": "UdDsKm5WIYAf",
        "outputId": "4665f3bd-d572-40c5-f845-44c89d18f254"
      },
      "source": [
        "permissoes"
      ],
      "execution_count": null,
      "outputs": [
        {
          "output_type": "execute_result",
          "data": {
            "text/plain": [
              "[True, False, True]"
            ]
          },
          "metadata": {
            "tags": []
          },
          "execution_count": 59
        }
      ]
    },
    {
      "cell_type": "code",
      "metadata": {
        "colab": {
          "base_uri": "https://localhost:8080/"
        },
        "id": "wBhDYKYUJimb",
        "outputId": "9d8f7d82-9439-45cb-92f0-9107a696ca04"
      },
      "source": [
        "for permissao in permissoes:\n",
        "  if permissao == True:\n",
        "    print('Tem permissão')\n",
        "  else:\n",
        "    print('Não tem permissão') "
      ],
      "execution_count": null,
      "outputs": [
        {
          "output_type": "stream",
          "text": [
            "Tem permissão\n",
            "Não tem permissão\n",
            "Tem permissão\n"
          ],
          "name": "stdout"
        }
      ]
    },
    {
      "cell_type": "markdown",
      "metadata": {
        "id": "v51fOnbGKJoq"
      },
      "source": [
        "# **O sistema de imports**"
      ]
    },
    {
      "cell_type": "markdown",
      "metadata": {
        "id": "VHuIIZcpKfcG"
      },
      "source": [
        "**Tipos em uma lista**"
      ]
    },
    {
      "cell_type": "code",
      "metadata": {
        "id": "F5qO5kLrL6EO"
      },
      "source": [
        "lista = [\"Lucas Do Vale\", 20, True, \"19\"]"
      ],
      "execution_count": null,
      "outputs": []
    },
    {
      "cell_type": "code",
      "metadata": {
        "colab": {
          "base_uri": "https://localhost:8080/"
        },
        "id": "LYrYSWEoMROc",
        "outputId": "c0f9ec26-6997-4480-b0ee-8b01b6e88e9a"
      },
      "source": [
        "for elemento in lista:\n",
        "  print(f'O elemento {elemento}é do tipo: ', type(elemento))"
      ],
      "execution_count": null,
      "outputs": [
        {
          "output_type": "stream",
          "text": [
            "O elemento Lucas Do Valeé do tipo:  <class 'str'>\n",
            "O elemento 20é do tipo:  <class 'int'>\n",
            "O elemento Trueé do tipo:  <class 'bool'>\n",
            "O elemento 19é do tipo:  <class 'str'>\n"
          ],
          "name": "stdout"
        }
      ]
    },
    {
      "cell_type": "markdown",
      "metadata": {
        "id": "yxVa7Cd0MzqC"
      },
      "source": [
        "**Imports**"
      ]
    },
    {
      "cell_type": "code",
      "metadata": {
        "id": "FoU37vBTMoNQ"
      },
      "source": [
        "from random import  randrange"
      ],
      "execution_count": null,
      "outputs": []
    },
    {
      "cell_type": "code",
      "metadata": {
        "colab": {
          "base_uri": "https://localhost:8080/"
        },
        "id": "pCdj2D2wO39L",
        "outputId": "b4edc727-d08e-4cdb-f293-20064ef795fe"
      },
      "source": [
        "randrange(0,11)"
      ],
      "execution_count": null,
      "outputs": [
        {
          "output_type": "execute_result",
          "data": {
            "text/plain": [
              "0"
            ]
          },
          "metadata": {
            "tags": []
          },
          "execution_count": 70
        }
      ]
    },
    {
      "cell_type": "code",
      "metadata": {
        "id": "d1eiDhAaPHwU"
      },
      "source": [
        "notas_matematicas = []"
      ],
      "execution_count": null,
      "outputs": []
    },
    {
      "cell_type": "code",
      "metadata": {
        "id": "Xlyc6ZAKPaJw"
      },
      "source": [
        "for notas in range(8):\n",
        "  notas_matematicas.append(randrange(0,11))"
      ],
      "execution_count": null,
      "outputs": []
    },
    {
      "cell_type": "code",
      "metadata": {
        "colab": {
          "base_uri": "https://localhost:8080/"
        },
        "id": "CWrFf4cnPmhK",
        "outputId": "88c358e1-b00b-42e3-b39b-066b6bf48790"
      },
      "source": [
        "notas_matematicas"
      ],
      "execution_count": null,
      "outputs": [
        {
          "output_type": "execute_result",
          "data": {
            "text/plain": [
              "[10, 6, 3, 6, 3, 1, 0, 8]"
            ]
          },
          "metadata": {
            "tags": []
          },
          "execution_count": 73
        }
      ]
    },
    {
      "cell_type": "code",
      "metadata": {
        "colab": {
          "base_uri": "https://localhost:8080/"
        },
        "id": "zPKzcBUeQtnj",
        "outputId": "3243616c-9ab4-4b0a-cf65-8de9f1bb4575"
      },
      "source": [
        "len(notas_matematicas)"
      ],
      "execution_count": null,
      "outputs": [
        {
          "output_type": "execute_result",
          "data": {
            "text/plain": [
              "8"
            ]
          },
          "metadata": {
            "tags": []
          },
          "execution_count": 74
        }
      ]
    },
    {
      "cell_type": "markdown",
      "metadata": {
        "id": "pvGt698yQv_8"
      },
      "source": [
        "# **Plotando com Matplotlib**"
      ]
    },
    {
      "cell_type": "code",
      "metadata": {
        "id": "QOC1lflHRkif"
      },
      "source": [
        "import matplotlib.pyplot as plt"
      ],
      "execution_count": null,
      "outputs": []
    },
    {
      "cell_type": "code",
      "metadata": {
        "colab": {
          "base_uri": "https://localhost:8080/",
          "height": 295
        },
        "id": "7SqmraAFRrRv",
        "outputId": "3b0493ad-7438-4cf7-e7e8-487cfbe836d7"
      },
      "source": [
        "x = list(range(1,9))\n",
        "y = notas_matematicas\n",
        "plt.plot(x, y)\n",
        "plt.title('Notas de matemática')\n",
        "plt.xlabel('Provas')\n",
        "plt.ylabel('Notas')\n",
        "plt.show()"
      ],
      "execution_count": null,
      "outputs": [
        {
          "output_type": "display_data",
          "data": {
            "image/png": "[encoded data removed]",
            "text/plain": [
              "<Figure size 432x288 with 1 Axes>"
            ]
          },
          "metadata": {
            "tags": [],
            "needs_background": "light"
          }
        }
      ]
    }
  ]
}